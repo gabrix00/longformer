{
 "cells": [
  {
   "cell_type": "code",
   "execution_count": 5,
   "metadata": {},
   "outputs": [
    {
     "name": "stdout",
     "output_type": "stream",
     "text": [
      "Relative Attention to 'giocare' using 'oggi' and 'calcio': [0.35826252 0.45826252 0.55826252]\n"
     ]
    }
   ],
   "source": [
    "import numpy as np\n",
    "\n",
    "def softmax(x):\n",
    "    e_x = np.exp(x - np.max(x))\n",
    "    return e_x / e_x.sum(axis=0)\n",
    "\n",
    "def calculate_relative_attention(query, key, values, stride_tokens):\n",
    "    \"\"\"\n",
    "    Calcola l'attenzione relativa ad un token specifico utilizzando solo le informazioni dei token specificati come stride.\n",
    "\n",
    "    Argomenti:\n",
    "    stride_tokens: Lista di indici dei token con cui calcolare l'attenzione\n",
    "    query_selected:\n",
    "    Ritorna:\n",
    "    relative_attention: Array numpy con l'attenzione relativa\n",
    "    \"\"\"\n",
    "\n",
    "    # Estrae i vettori di embedding dei token specificati come stride\n",
    "    stride_key = key[stride_tokens]\n",
    "\n",
    "    # Calcola i punteggi di attenzione\n",
    "    scores = np.dot(query, stride_key.T)\n",
    "\n",
    "    # Applica la softmax per ottenere i pesi di attenzione\n",
    "    attention_weights = softmax(scores)\n",
    "\n",
    "    # Calcola l'attenzione pesata sui valori\n",
    "    weighted_values = np.dot(attention_weights, values[stride_tokens])\n",
    "\n",
    "    return weighted_values\n",
    "\n",
    "# Esempio di utilizzo\n",
    "tokens = [\"oggi\", \"vado\", \"a\", \"giocare\", \"a\", \"calcio\"]\n",
    "embeddings = {\n",
    "    \"oggi\": np.array([0.1, 0.2, 0.3]),\n",
    "    \"vado\": np.array([0.2, 0.3, 0.4]),\n",
    "    \"a\": np.array([0.3, 0.4, 0.5]),\n",
    "    \"giocare\": np.array([0.4, 0.5, 0.6]),\n",
    "    \"calcio\": np.array([0.5, 0.6, 0.7])\n",
    "}\n",
    "\n",
    "# Costruzione delle matrici query, key e values ! sbagliato key query e values sono gli embedding della parola.\n",
    "query = embeddings[\"giocare\"]\n",
    "key = np.array([embeddings[token] for token in tokens])\n",
    "values = np.array([embeddings[token] for token in tokens])\n",
    "\n",
    "# Indici dei token con cui calcolare l'attenzione\n",
    "stride_tokens = [tokens.index(\"oggi\"), tokens.index(\"calcio\")]\n",
    "\n",
    "# Calcola l'attenzione relativa al token \"giocare\" usando solo le informazioni dei token \"oggi\" e \"calcio\"\n",
    "relative_attention = calculate_relative_attention(query, key, values, stride_tokens)\n",
    "\n",
    "print(\"Relative Attention to 'giocare' using 'oggi' and 'calcio':\", relative_attention)\n"
   ]
  },
  {
   "cell_type": "code",
   "execution_count": null,
   "metadata": {},
   "outputs": [],
   "source": []
  }
 ],
 "metadata": {
  "kernelspec": {
   "display_name": "cvs-classifier",
   "language": "python",
   "name": "python3"
  },
  "language_info": {
   "codemirror_mode": {
    "name": "ipython",
    "version": 3
   },
   "file_extension": ".py",
   "mimetype": "text/x-python",
   "name": "python",
   "nbconvert_exporter": "python",
   "pygments_lexer": "ipython3",
   "version": "3.10.11"
  }
 },
 "nbformat": 4,
 "nbformat_minor": 2
}
